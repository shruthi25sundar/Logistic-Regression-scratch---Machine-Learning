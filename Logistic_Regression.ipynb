{
  "nbformat": 4,
  "nbformat_minor": 0,
  "metadata": {
    "colab": {
      "name": "Logistic Regression.ipynb",
      "version": "0.3.2",
      "provenance": [],
      "collapsed_sections": []
    },
    "kernelspec": {
      "name": "python3",
      "display_name": "Python 3"
    }
  },
  "cells": [
    {
      "metadata": {
        "id": "zuUK7vhyXH_v",
        "colab_type": "text"
      },
      "cell_type": "markdown",
      "source": [
        ""
      ]
    },
    {
      "metadata": {
        "id": "WPa7SB5FXEHu",
        "colab_type": "code",
        "colab": {}
      },
      "cell_type": "code",
      "source": [
        "#Packages to Import\n",
        "import pandas as pd\n",
        "from google.colab import files\n",
        "import numpy as np\n",
        "from sklearn.cross_validation import train_test_split\n",
        "from scipy import optimize as op\n",
        "from sklearn.metrics import accuracy_score\n",
        "import pandas as pd\n",
        "import matplotlib.pyplot as plt\n",
        "import pandas as pd\n",
        "import seaborn as sb\n",
        "import io\n",
        "import itertools\n",
        "import numpy as np"
      ],
      "execution_count": 0,
      "outputs": []
    },
    {
      "metadata": {
        "id": "UzEa3sl5CiEA",
        "colab_type": "code",
        "colab": {}
      },
      "cell_type": "code",
      "source": [
        "!pip install lmfit\n",
        "import lmfit"
      ],
      "execution_count": 0,
      "outputs": []
    },
    {
      "metadata": {
        "id": "aopARknhU9hW",
        "colab_type": "code",
        "colab": {}
      },
      "cell_type": "code",
      "source": [
        "#Uploading File\n",
        "uploaded = files.upload()"
      ],
      "execution_count": 0,
      "outputs": []
    },
    {
      "metadata": {
        "id": "YF32r0aNVFJM",
        "colab_type": "code",
        "colab": {}
      },
      "cell_type": "code",
      "source": [
        "sample_df = pd.read_csv(io.StringIO(uploaded['owls.csv'].decode('utf-8')),header=None)\n",
        "print(sample_df)"
      ],
      "execution_count": 0,
      "outputs": []
    },
    {
      "metadata": {
        "id": "5__LN3IvVMNa",
        "colab_type": "code",
        "colab": {}
      },
      "cell_type": "code",
      "source": [
        "#Adding Attributes to the dataset\n",
        "sample_df.columns=[\"Body-length\",\"Wing-length\",\"Body-width\",\"Wing-width\",\"Type\"]\n",
        "sample_df"
      ],
      "execution_count": 0,
      "outputs": []
    },
    {
      "metadata": {
        "id": "Ht4I8qx3VO9m",
        "colab_type": "code",
        "colab": {}
      },
      "cell_type": "code",
      "source": [
        "#optional-Scatter plot for Boady length and wing length\n",
        "OwlLength = sb.FacetGrid(sample_df, hue=\"Type\", size=6).map(plt.scatter, \"Body-length\", \"Wing-length\")\n",
        "plt.legend(loc='upper left');"
      ],
      "execution_count": 0,
      "outputs": []
    },
    {
      "metadata": {
        "id": "l4EX3DIYVTtT",
        "colab_type": "code",
        "colab": {}
      },
      "cell_type": "code",
      "source": [
        "#optional-Scatter plot for Boady width and wing width\n",
        "OwlLength = sb.FacetGrid(sample_df, hue=\"Type\", size=6).map(plt.scatter, \"Body-width\", \"Wing-width\")\n",
        "plt.legend(loc='upper left');"
      ],
      "execution_count": 0,
      "outputs": []
    },
    {
      "metadata": {
        "id": "X3O6EWRdVXFl",
        "colab_type": "code",
        "colab": {}
      },
      "cell_type": "code",
      "source": [
        "size = sample_df.shape[0] #size of sample\n",
        "features = 4  #number of features\n",
        "predictors = 3  #number of types(predictors)\n"
      ],
      "execution_count": 0,
      "outputs": []
    },
    {
      "metadata": {
        "id": "nYpigVRyVbTY",
        "colab_type": "code",
        "colab": {}
      },
      "cell_type": "code",
      "source": [
        "z= np.ones((135,1))\n",
        "sample_df=pd.DataFrame(z).join(sample_df)\n",
        "sample_df"
      ],
      "execution_count": 0,
      "outputs": []
    },
    {
      "metadata": {
        "id": "5KA2lmA8VduX",
        "colab_type": "code",
        "colab": {}
      },
      "cell_type": "code",
      "source": [
        "X = np.ones((size,features + 1))\n",
        "y = np.array((size,1))\n",
        "X[:,1] = sample_df['Body-length'].values \n",
        "X[:,2] = sample_df['Wing-length'].values\n",
        "X[:,3] = sample_df['Body-width'].values\n",
        "X[:,4] = sample_df['Wing-width'].values\n",
        "print(X)\n"
      ],
      "execution_count": 0,
      "outputs": []
    },
    {
      "metadata": {
        "id": "iEaBrouwWe6t",
        "colab_type": "code",
        "colab": {}
      },
      "cell_type": "code",
      "source": [
        "#Splitting Test and Training data\n",
        "df=sample_df.sample(frac=1).reset_index(drop=True)\n",
        "X=np.array(df.iloc[:,:5])\n",
        "y=np.array(df.iloc[:,5])\n",
        "X_test,X_train=X[:45,:],X[45:,:]\n",
        "y_test,y_train=y[:45],y[45:]\n",
        "y = ['BarnOwl', 'LongEaredOwl', 'SnowyOwl']\n",
        "y"
      ],
      "execution_count": 0,
      "outputs": []
    },
    {
      "metadata": {
        "id": "Iln3BS9eVhsC",
        "colab_type": "code",
        "colab": {}
      },
      "cell_type": "code",
      "source": [
        "#Normalization of Data\n",
        "for k in range(features):\n",
        "    X[:, k] = (X[:, k] - X[:,k].mean())\n",
        "  \n",
        "print(X)\n"
      ],
      "execution_count": 0,
      "outputs": []
    },
    {
      "metadata": {
        "id": "jk0FA1o7pj34",
        "colab_type": "code",
        "colab": {}
      },
      "cell_type": "code",
      "source": [
        "#Sigmoid fuction\n",
        "def sigmoid(z):\n",
        "    f= 1.0 / (1 + np.exp(-z))\n",
        "    return f\n",
        "\n",
        "\n",
        "#Regularized cost function\n",
        "def regCostFunction(params, beta, X, y,lr = 0.1):\n",
        "    m = len(y)\n",
        "    dot_X=[]\n",
        "    dot_X=np.dot(X,beta)\n",
        "    h = sigmoid(dot_X)\n",
        "    reg = (lr/(2 * m)) * np.sum(beta**2)\n",
        "\n",
        "    return (1 / m) * (-y.T.dot(np.log(h)) - (1 - y).T.dot(np.log(1 - h))) + reg\n",
        "\n",
        "#Regularized gradient function\n",
        "def regGradient(beta, X, y, lr = 0.1):\n",
        "    m, n = X.shape\n",
        "    beta = beta.reshape((n, 1))\n",
        "    y = y.reshape((m, 1))\n",
        "    h = sigmoid(X.dot(beta))\n",
        "    reg = lr * beta /m\n",
        "\n",
        "    return ((1 / m) * X.T.dot(h - y)) + reg\n",
        "\n",
        "#Optimal beta \n",
        "def logisticRegression(X, y, beta):\n",
        "  param=lmfit.Parameters()\n",
        "  #result = lmfit.minimize(fun = regCostFunction, x0 = beta, args = (X, y), method = 'TNC', jac = regGradient)\n",
        "  minner = lmfit.Minimizer(regCostFunction, param, fcn_args=(beta, X, y))\n",
        "  result = minner.minimize(method = 'tnc')\n",
        "  print(result.message)\n",
        "  print(result.success)\n",
        "  print(result.status)\n",
        "  print(result.nfev)\n",
        "  return result.x"
      ],
      "execution_count": 0,
      "outputs": []
    },
    {
      "metadata": {
        "id": "1GlBA8bwSPKm",
        "colab_type": "code",
        "colab": {}
      },
      "cell_type": "code",
      "source": [
        "as_beta = np.zeros((k, features + 1))\n",
        "\n",
        "#One vs all\n",
        "i = 0\n",
        "for j in y:\n",
        "    #set the labels in 0 and 1\n",
        "    temp_y = np.array(y_train == j, dtype = int)\n",
        "    optimalBeta= logisticRegression(X_train, temp_y, np.zeros((features + 1,1)))\n",
        "    as_beta[i] = optimalBeta\n",
        "    i += 1"
      ],
      "execution_count": 0,
      "outputs": []
    },
    {
      "metadata": {
        "id": "wpUvAtngSjkw",
        "colab_type": "code",
        "colab": {}
      },
      "cell_type": "code",
      "source": [
        "#Accuracy Calculation from Scratch\n",
        "\n",
        "P = sigmoid(X_train.dot(as_beta.T)) \n",
        "p = [y[np.argmax(P[i, :])] for i in range(X_train.shape[0])]\n",
        "accuracy=np.mean(p==y_train)\n",
        "#res=accuracy*100\n",
        "print(\"Model Accuracy from Scratch \", accuracy * 100 , '%')"
      ],
      "execution_count": 0,
      "outputs": []
    },
    {
      "metadata": {
        "id": "YLfAwaRbC1z7",
        "colab_type": "code",
        "colab": {}
      },
      "cell_type": "code",
      "source": [
        "print(\"Model Accuracy using scikit-learn \", accuracy_score(y_train, p) * 100 , '%')"
      ],
      "execution_count": 0,
      "outputs": []
    }
  ]
}